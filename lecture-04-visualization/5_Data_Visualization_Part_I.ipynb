{
 "cells": [
  {
   "cell_type": "markdown",
   "metadata": {
    "id": "HQ_joHWk_bGG"
   },
   "source": [
    "# Data Visualization - Fundamentals\n",
    "\n",
    "## Table of Contents\n",
    "\n",
    "1. [**Introduction**](#Intro)\n",
    "2. [**Plotting**](#plts)\n",
    "3. [**Subplots**](#subplts)\n",
    "4. [**Saving**](#sav)\n"
   ]
  },
  {
   "cell_type": "markdown",
   "metadata": {
    "id": "9QNBBlVf_oIf"
   },
   "source": [
    "## 1. Introduction <a name=\"Intro\"></a>\n",
    "\n",
    "Python has many add-on libraries for making static or dynamic visualizations, but we will be mainly focused on _matplotlib_ and libraries that build on top of it, like _seaborn_.\n",
    "\n",
    "__matplotlib__ is a plotting package designed for creating (mostly two dimensional) publication-quality plots. First we are going to learn the basics of plotting using _matplotlib_ and then we use _seaborn_ and _pandas_ packages for plotting specific types of plots.\n",
    "\n",
    "Let's import _matplotlib_ library and learn how to use it!"
   ]
  },
  {
   "cell_type": "code",
   "execution_count": null,
   "metadata": {
    "executionInfo": {
     "elapsed": 5,
     "status": "ok",
     "timestamp": 1664374261789,
     "user": {
      "displayName": "Masoud Masoumi",
      "userId": "16156288528573925195"
     },
     "user_tz": 240
    },
    "id": "KMWqkBrr_Y8j"
   },
   "outputs": [],
   "source": [
    "import matplotlib.pyplot as plt\n",
    "import numpy as np\n",
    "#%matplotlib inline           # this option is used to place the plots inside the notebook (if you run the code on your local machine)\n",
    "#%matplotlib qt               # place the plot outside of the notebook  (if you run the code on your local machine)"
   ]
  },
  {
   "cell_type": "markdown",
   "metadata": {
    "id": "qkvJD_feAcCo"
   },
   "source": [
    "## 2. Plotting <a name=\"plts\"></a>\n",
    "\n",
    "Plots in matplotlib reside within a Figure object. You can create a new figure with _plt.figure_. The most common option for this command is _figsize_ which can be used to set the size of your figure, i.e. its width and height. Once you define the object, you can plot your function or data set."
   ]
  },
  {
   "cell_type": "code",
   "execution_count": null,
   "metadata": {
    "colab": {
     "base_uri": "https://localhost:8080/",
     "height": 338
    },
    "executionInfo": {
     "elapsed": 651,
     "status": "ok",
     "timestamp": 1664374265116,
     "user": {
      "displayName": "Masoud Masoumi",
      "userId": "16156288528573925195"
     },
     "user_tz": 240
    },
    "id": "YrpQfEV0AbX_",
    "outputId": "8e15f291-946d-404f-92b6-06488a1c8bc5"
   },
   "outputs": [],
   "source": [
    "fig = plt.figure( figsize=(10,5) )      # define the plot as an object fig and its dimensions in inches\n",
    "\n",
    "# defining a sine function to plot\n",
    "x=np.linspace(0, 2*np.pi, 50)           # dividing the range from 0 to 2pi and give 50 samples to create a vector\n",
    "y=np.sin(x)\n",
    "\n",
    "plt.plot(x,y)                           # generating the plot and putting it in an object, plot obj"
   ]
  },
  {
   "cell_type": "markdown",
   "metadata": {
    "id": "-G5GZ7GYE4bK"
   },
   "source": [
    "You have options to plot functions, to customize your plots and add labels, title, line width, etc. A good list of possible options for plot function can be found here: https://matplotlib.org/api/_as_gen/matplotlib.pyplot.plot.html"
   ]
  },
  {
   "cell_type": "code",
   "execution_count": null,
   "metadata": {
    "colab": {
     "base_uri": "https://localhost:8080/",
     "height": 350
    },
    "executionInfo": {
     "elapsed": 746,
     "status": "ok",
     "timestamp": 1664374787199,
     "user": {
      "displayName": "Masoud Masoumi",
      "userId": "16156288528573925195"
     },
     "user_tz": 240
    },
    "id": "eFN_WBcoA4nE",
    "outputId": "7116dab7-64d2-4bdf-fa18-8ff08d3cf863"
   },
   "outputs": [],
   "source": [
    "plt.figure( figsize=(10,5) )\n",
    "plt.plot(x, y, color='g', linestyle='dashed', marker='3', linewidth=2, markersize=20)\n",
    "\n",
    "plt.grid(b=True)                     # turn on the grid, take a look at possible options using plt.grid?\n",
    "plt.xlim( right=2*np.pi )             # setting the limit on x-axis\n",
    "plt.ylim( [-1.5, 1.5] )              # setting the limit on y-axis\n",
    "plt.xlabel('x values')               # setting the label for x-axis \n",
    "plt.ylabel('Amplitude')              # setting the label for y-axis\n",
    "plt.title('Sine Function');          # setting the title"
   ]
  },
  {
   "cell_type": "code",
   "execution_count": null,
   "metadata": {
    "colab": {
     "base_uri": "https://localhost:8080/",
     "height": 283
    },
    "executionInfo": {
     "elapsed": 439,
     "status": "ok",
     "timestamp": 1664374677439,
     "user": {
      "displayName": "Masoud Masoumi",
      "userId": "16156288528573925195"
     },
     "user_tz": 240
    },
    "id": "EV6O8S0MdbTe",
    "outputId": "bf39d54b-e9b4-4e1a-e773-478ae870a461"
   },
   "outputs": [],
   "source": [
    "plt.plot(x,y,'g--o',lw=2, markersize=12)"
   ]
  },
  {
   "cell_type": "markdown",
   "metadata": {
    "id": "pzTinrUCQhW7"
   },
   "source": [
    "In the above cell, you could alternatively use\n",
    "```python\n",
    "plt.plot(x,y,'g--o',linewidth=2, markersize=12)\n",
    "```\n",
    "to plot the same plot. You can see a list of possible markers, line styles, and colors: https://matplotlib.org/3.2.1/api/_as_gen/matplotlib.pyplot.plot.html"
   ]
  },
  {
   "cell_type": "markdown",
   "metadata": {
    "id": "exaPYxKZap46"
   },
   "source": [
    "##### <font color='red'>__Question (1)__</font>: "
   ]
  },
  {
   "cell_type": "markdown",
   "metadata": {
    "id": "E8lVOEmxvn90"
   },
   "source": [
    "Plot the function $y(t)=5t^3-15t^2-t+50$ from __0__ to __3__ (include both 0 and 3) on a figure size 12 inch width and 6 inch height. Title the plot as `Function of Time` with x and y axes labeld as `Time (s)` and `Displacement (m)`, respectively. Do not use any marker and plot the function using dash-dot line style with a thickness 5. Use color black for your plot and turn the grid on."
   ]
  },
  {
   "cell_type": "code",
   "execution_count": null,
   "metadata": {
    "id": "up7aqrESzMnl"
   },
   "outputs": [],
   "source": [
    "# In-Class Assignment\n"
   ]
  },
  {
   "cell_type": "markdown",
   "metadata": {
    "id": "WcHmnv2LHLzf"
   },
   "source": [
    "You can change the style, fontsize, and other parameters of a plot. You can see a list of different styles and how they look here: https://tonysyu.github.io/raw_content/matplotlib-style-gallery/gallery.html"
   ]
  },
  {
   "cell_type": "code",
   "execution_count": null,
   "metadata": {
    "colab": {
     "base_uri": "https://localhost:8080/"
    },
    "executionInfo": {
     "elapsed": 351,
     "status": "ok",
     "timestamp": 1664375254913,
     "user": {
      "displayName": "Masoud Masoumi",
      "userId": "16156288528573925195"
     },
     "user_tz": 240
    },
    "id": "bkdUML8Hw1VS",
    "outputId": "f2548c55-0948-4da4-f55e-c3ce9ce59a54"
   },
   "outputs": [],
   "source": [
    "plt.style.available"
   ]
  },
  {
   "cell_type": "code",
   "execution_count": null,
   "metadata": {
    "colab": {
     "base_uri": "https://localhost:8080/",
     "height": 338
    },
    "executionInfo": {
     "elapsed": 402,
     "status": "ok",
     "timestamp": 1664375302030,
     "user": {
      "displayName": "Masoud Masoumi",
      "userId": "16156288528573925195"
     },
     "user_tz": 240
    },
    "id": "mE9X9lwLHtIG",
    "outputId": "d212f639-cfda-4de9-a770-181144e6fe9b"
   },
   "outputs": [],
   "source": [
    "plt.style.use('dark_background')                    # set the background as dark (use plt.style.available to see the list)\n",
    "plt.rc('font', size=10)                            # set the font size\n",
    "\n",
    "fig = plt.figure(figsize=(10,5))\n",
    "plt.plot(x,y,color='green', marker='o', linestyle='dashed',linewidth=3, markersize=1)"
   ]
  },
  {
   "cell_type": "code",
   "execution_count": null,
   "metadata": {
    "colab": {
     "base_uri": "https://localhost:8080/",
     "height": 338
    },
    "executionInfo": {
     "elapsed": 410,
     "status": "ok",
     "timestamp": 1664375310685,
     "user": {
      "displayName": "Masoud Masoumi",
      "userId": "16156288528573925195"
     },
     "user_tz": 240
    },
    "id": "4r6PQU1t4YqM",
    "outputId": "b5e78188-6468-492b-fad3-85f7602f3a5a"
   },
   "outputs": [],
   "source": [
    "plt.style.use('ggplot')                           # set the background to ggplot\n",
    "fig = plt.figure(figsize=(10,5))\n",
    "plt.plot(x,y,color='green', marker='o', linestyle='dashed',linewidth=2, markersize=12)"
   ]
  },
  {
   "cell_type": "code",
   "execution_count": null,
   "metadata": {
    "executionInfo": {
     "elapsed": 984,
     "status": "ok",
     "timestamp": 1664375353283,
     "user": {
      "displayName": "Masoud Masoumi",
      "userId": "16156288528573925195"
     },
     "user_tz": 240
    },
    "id": "_kWnnRsUgD1q"
   },
   "outputs": [],
   "source": [
    "plt.style.use('default')"
   ]
  },
  {
   "cell_type": "markdown",
   "metadata": {
    "id": "FQuY44-KMx2N"
   },
   "source": [
    "If you want to set the size for each font separately, here is a general guideline that you can follow:\n",
    "```python\n",
    "import matplotlib.pyplot as plt\n",
    "\n",
    "SMALL_SIZE = 8\n",
    "MEDIUM_SIZE = 10\n",
    "BIGGER_SIZE = 12\n",
    "\n",
    "plt.rc('font', size=SMALL_SIZE)          # controls default text sizes\n",
    "plt.rc('axes', titlesize=SMALL_SIZE)     # fontsize of the axes title\n",
    "plt.rc('axes', labelsize=MEDIUM_SIZE)    # fontsize of the x and y labels\n",
    "plt.rc('xtick', labelsize=SMALL_SIZE)    # fontsize of the tick labels\n",
    "plt.rc('ytick', labelsize=SMALL_SIZE)    # fontsize of the tick labels\n",
    "plt.rc('legend', fontsize=SMALL_SIZE)    # legend fontsize\n",
    "plt.rc('figure', titlesize=BIGGER_SIZE)  # fontsize of the figure title\n",
    "```"
   ]
  },
  {
   "cell_type": "markdown",
   "metadata": {
    "id": "uiqKj1IKNeB0"
   },
   "source": [
    "Finally, you can plot multiple functions in one plot"
   ]
  },
  {
   "cell_type": "code",
   "execution_count": null,
   "metadata": {
    "colab": {
     "base_uri": "https://localhost:8080/",
     "height": 350
    },
    "executionInfo": {
     "elapsed": 461,
     "status": "ok",
     "timestamp": 1664375690775,
     "user": {
      "displayName": "Masoud Masoumi",
      "userId": "16156288528573925195"
     },
     "user_tz": 240
    },
    "id": "Xp5vH7sBJgd7",
    "outputId": "bf998668-52ad-4e83-ab75-2e9e37948601"
   },
   "outputs": [],
   "source": [
    "plt.style.use('seaborn-white')                   # set the style as seaborn-white                         \n",
    "\n",
    "x1=np.linspace(0, 2*np.pi, num=100)\n",
    "y1=np.sin(x1)\n",
    "y2=np.cos(x1)\n",
    "\n",
    "fig=plt.figure(figsize=(12,4))\n",
    "#plt.plot(x1,y1,'r-.', x1, y2, 'g')\n",
    "plt.plot( x1,y1,'g--', linewidth=3, label='sine')\n",
    "plt.plot( x1,y2,'r', linewidth=2, label='cosine')\n",
    "plt.grid()\n",
    "\n",
    "# Create a legend and put it in the best place on the plot.\n",
    "# Use options like 'upper left' or 'lower right' to set the location for the legend\n",
    "plt.legend(loc='best')\n",
    "\n",
    "# or alternatively, let matplotlib decides about the location of the legend on the figure, \n",
    "# if you previously defined the name of each line.\n",
    "#plt.legend(loc='best')         "
   ]
  },
  {
   "cell_type": "code",
   "execution_count": null,
   "metadata": {
    "colab": {
     "base_uri": "https://localhost:8080/",
     "height": 443
    },
    "executionInfo": {
     "elapsed": 298,
     "status": "ok",
     "timestamp": 1664376069220,
     "user": {
      "displayName": "Masoud Masoumi",
      "userId": "16156288528573925195"
     },
     "user_tz": 240
    },
    "id": "hZE7vB2PimRE",
    "outputId": "89f57e02-5e2b-4d3d-fef2-963ffcbec6a3"
   },
   "outputs": [],
   "source": [
    "plt.plot( x1,y1,'g--', x1, y2, 'r', linewidth=3)"
   ]
  },
  {
   "cell_type": "markdown",
   "metadata": {
    "id": "LBM2qOgAap4_"
   },
   "source": [
    "##### <font color='red'>__Question (2)__</font>:"
   ]
  },
  {
   "cell_type": "markdown",
   "metadata": {
    "id": "r968wJSfP3DI"
   },
   "source": [
    "Write a piece of code to plot an exponential function and a tangent function on the same plot from $\\frac{\\pi}{16}$ to $\\frac{\\pi}{3}$. Use different line types and colors for these two functions, label both axes and make sure the plot has a legend identifying the functions. "
   ]
  },
  {
   "cell_type": "code",
   "execution_count": null,
   "metadata": {
    "id": "zghv-tx5mo6B"
   },
   "outputs": [],
   "source": [
    "# In-Class Assignment\n"
   ]
  },
  {
   "cell_type": "markdown",
   "metadata": {
    "id": "_OEmaYDKQD_d"
   },
   "source": [
    "## 3. Subplots <a name=\"subplts\"></a>\n",
    "\n",
    "Once you create an object as your figure, you can define subplots using the method <font color='blue'>add_subplot</font> method. This method creates a matrix of plots with the first input argument as the number of rows and the second as the number of columns, and the third as the subplot of interest. For instance the following command\n",
    "```python\n",
    "fig=plt.figure(figsize=(8,4))    # setting the size of the matrix plot\n",
    "fig.add_subplot(2,3,1)\n",
    "```\n",
    "creates a matrix of 2 by 3 plots and focuses on the first plot.\n",
    "\n",
    "![alt text](https://docs.google.com/uc?export=download&id=15ewCxyzanyenQd7E1PrDfD_fgs_IRJAC)"
   ]
  },
  {
   "cell_type": "markdown",
   "metadata": {
    "id": "kolKsEP2VwDB"
   },
   "source": [
    "Let's create a 2 by 2 matrix of plots."
   ]
  },
  {
   "cell_type": "code",
   "execution_count": null,
   "metadata": {
    "colab": {
     "base_uri": "https://localhost:8080/",
     "height": 925
    },
    "executionInfo": {
     "elapsed": 888,
     "status": "ok",
     "timestamp": 1664376392069,
     "user": {
      "displayName": "Masoud Masoumi",
      "userId": "16156288528573925195"
     },
     "user_tz": 240
    },
    "id": "-anNTtRaJ2jy",
    "outputId": "337fff29-69e6-4107-f462-e7dccd7edb0e"
   },
   "outputs": [],
   "source": [
    "x1=np.linspace(0.01,2*np.pi,num=100)          # defining the vector\n",
    "\n",
    "fig=plt.figure(figsize=(10,10))               # defining the matrix of plots\n",
    "fig.suptitle('This is a set of subplots')\n",
    "\n",
    "fig.add_subplot(221)\n",
    "plt.plot(x1,np.sin(x1),'r-.',linewidth=3)\n",
    "plt.xlabel('test1')\n",
    "plt.ylabel('y values')\n",
    "plt.title('Sine Func')\n",
    "\n",
    "fig.add_subplot(222)\n",
    "plt.plot(x1,np.cos(x1),'g-o',linewidth=3)\n",
    "plt.xlabel('test2')\n",
    "plt.title('Cosine Func')\n",
    "\n",
    "fig.add_subplot(2,2,3)\n",
    "plt.plot(x1,np.log10(x1),'k+',linewidth=3)\n",
    "\n",
    "fig.add_subplot(2,2,4)\n",
    "plt.plot(x1,np.sqrt(x1),'b*',linewidth=3);"
   ]
  },
  {
   "cell_type": "markdown",
   "metadata": {
    "id": "A9VYOwylap5B"
   },
   "source": [
    "##### <font color='red'>__Question (3)__</font>:"
   ]
  },
  {
   "cell_type": "markdown",
   "metadata": {
    "id": "2yt3SoYM1TZF"
   },
   "source": [
    "Define a figure of size 14 inches by 4 inches with 3 subplots (a 1 by 3 matrix). Plot a sine function from 0 to $3\\pi$ in the first subplot, from 0 to $\\pi$ in the second subplot, and from $\\pi$ to $2\\pi$ in the third subplot."
   ]
  },
  {
   "cell_type": "code",
   "execution_count": null,
   "metadata": {
    "id": "9nu3t80-2af7"
   },
   "outputs": [],
   "source": [
    "# In-Class Assignment\n"
   ]
  },
  {
   "cell_type": "markdown",
   "metadata": {
    "id": "pILe65vQ4U9F"
   },
   "source": [
    "adjust the spacing between the plots using the method <font color='blue'>subplots_adjust</font> via the following format:\n",
    "```python\n",
    "plt.subplots_adjust(hspace=None,wspace=None)\n",
    "```\n",
    "where, `wspace` is the amount of width reserved for space between subplots and `hspace` is the amount of height reserved for space between subplots. These values are fractions of the average axis width and height."
   ]
  },
  {
   "cell_type": "code",
   "execution_count": null,
   "metadata": {
    "colab": {
     "base_uri": "https://localhost:8080/",
     "height": 825
    },
    "executionInfo": {
     "elapsed": 1346,
     "status": "ok",
     "timestamp": 1664377409631,
     "user": {
      "displayName": "Masoud Masoumi",
      "userId": "16156288528573925195"
     },
     "user_tz": 240
    },
    "id": "MjUd5jyl5K9R",
    "outputId": "ef6c73bf-373b-460f-a166-f04cf4b24a93"
   },
   "outputs": [],
   "source": [
    "x1=np.linspace(0.01,2*np.pi,num=100)          # defining the vector\n",
    "\n",
    "fig=plt.figure(figsize=(10,10))               # defining the matrix of plots\n",
    "\n",
    "fig.add_subplot(2,2,1)\n",
    "plt.plot(x1,np.sin(x1),'r-.',lw=3)\n",
    "plt.xlabel('test1')\n",
    "\n",
    "fig.add_subplot(2,2,2)\n",
    "plt.plot(x1,np.cos(x1),'g-o',lw=3)\n",
    "plt.xlabel('test2')\n",
    "\n",
    "fig.add_subplot(2,2,3)\n",
    "plt.plot(x1,np.log10(x1),'k+',lw=3)\n",
    "\n",
    "fig.add_subplot(2,2,4)\n",
    "plt.plot(x1,np.sqrt(x1),'b*',lw=3)\n",
    "\n",
    "plt.subplots_adjust(hspace=0.5,wspace=0.5)\n"
   ]
  },
  {
   "cell_type": "markdown",
   "metadata": {
    "id": "lgmFHTowvkqa"
   },
   "source": [
    "Alternatively, you can define the subplots directly using <font color='blue'>plt.subplots</font> with the option `figsize`. When using this approach, it is possible to share the values of x and y axes for all plots in a set of subplots using options `sharex` and `sharey` in <font color='blue'>plt.subplots</font>\n"
   ]
  },
  {
   "cell_type": "markdown",
   "metadata": {
    "id": "Fl0oNk1kwSMx"
   },
   "source": [
    "Here is an example of using these commands:"
   ]
  },
  {
   "cell_type": "code",
   "execution_count": null,
   "metadata": {
    "colab": {
     "base_uri": "https://localhost:8080/",
     "height": 594
    },
    "executionInfo": {
     "elapsed": 2034,
     "status": "ok",
     "timestamp": 1664377756475,
     "user": {
      "displayName": "Masoud Masoumi",
      "userId": "16156288528573925195"
     },
     "user_tz": 240
    },
    "id": "nmzUmkoKsf_r",
    "outputId": "04682e63-71f8-4b28-f808-0dbc3b06ac3f"
   },
   "outputs": [],
   "source": [
    "# Create a 2x2 set of plots in a 7 inch by 7 inch matrix, with shared x and y values\n",
    "fig, axes = plt.subplots(nrows=2, ncols=2, figsize=(7,7) ,sharex=False, sharey=True) \n",
    "\n",
    "for i in range(2):\n",
    "  for j in range(2):\n",
    "    axes[i, j].plot(x1, np.sin(x1), color='k')\n",
    "    if i==0 and j==0:\n",
    "      axes[i,j].plot(x1,np.cos(x1), color='b')\n",
    "\n",
    "\n",
    "plt.subplots_adjust(wspace=0.2, hspace=0.2)"
   ]
  },
  {
   "cell_type": "code",
   "execution_count": null,
   "metadata": {
    "colab": {
     "base_uri": "https://localhost:8080/",
     "height": 325
    },
    "executionInfo": {
     "elapsed": 605,
     "status": "ok",
     "timestamp": 1664378743459,
     "user": {
      "displayName": "Masoud Masoumi",
      "userId": "16156288528573925195"
     },
     "user_tz": 240
    },
    "id": "HaYTqITTpZB1",
    "outputId": "4c1d68e3-5a13-48a4-cf23-93bba2d94f48"
   },
   "outputs": [],
   "source": [
    "fig1, axes1 = plt.subplots(nrows=1, ncols=2, figsize=(5,3), sharex=False)\n",
    "axes1[0].plot(x1, np.sin(x1), 'r')\n",
    "axes1[0].set_xlim([0, 2*np.pi])\n",
    "axes1[0].set_ylim([-2, 2])\n",
    "axes1[0].set_title('Test')\n",
    "\n",
    "axes1[1].plot(x1, np.sin(x1), 'r')\n",
    "axes1[1].set_xlim([np.pi, 2*np.pi])\n",
    "axes1[1].set_ylim([-2, 2])\n",
    "axes1[1].set_title('Test')"
   ]
  },
  {
   "cell_type": "markdown",
   "metadata": {
    "id": "xlr8OfaYap5C"
   },
   "source": [
    "##### <font color='red'>__Question (4)__</font>:"
   ]
  },
  {
   "cell_type": "markdown",
   "metadata": {
    "id": "VquYo24xxyZ3"
   },
   "source": [
    "Write a piece of code that creates a subplot of 2 plots (a 1 by 2 matrix) and then plot the natural logarithm, _log_ function in the first subplot and a hyperbolic tangent function, _tanh_, in the second subplot. Plot the functions from $0$ to $\\pi$."
   ]
  },
  {
   "cell_type": "code",
   "execution_count": null,
   "metadata": {
    "id": "7Y29UquQp4-P"
   },
   "outputs": [],
   "source": [
    "# In-Class Assignment\n",
    "\n"
   ]
  },
  {
   "cell_type": "markdown",
   "metadata": {
    "id": "STv0EEliyliP"
   },
   "source": [
    "## 4. Saving <a name=\"sav\"></a>\n",
    "\n",
    "You can save the active figure to a file using <font color='blue'>plt.savefig</font>. Followings are some of the input arguments for this function.\n",
    "\n",
    "![alt text](https://docs.google.com/uc?export=download&id=1ScEgABJLl3t9Z70CwCk93ygl3lPDgDIy)\n",
    "\n",
    "<font color='orange'>NOTE</font>: Since we are using Colab and it is not on a local machine, we need to download the plot after saving it in the memory. To do so, we can import module <font color='blue'>files</font> from <font color='blue'>google.colab</font> library.\n",
    "```python\n",
    "from google.colab import files\n",
    "```\n"
   ]
  },
  {
   "cell_type": "markdown",
   "metadata": {
    "id": "QbghHZAt1fdo"
   },
   "source": [
    "Here is an example"
   ]
  },
  {
   "cell_type": "code",
   "execution_count": null,
   "metadata": {
    "colab": {
     "base_uri": "https://localhost:8080/",
     "height": 363
    },
    "executionInfo": {
     "elapsed": 1030,
     "status": "ok",
     "timestamp": 1664379056978,
     "user": {
      "displayName": "Masoud Masoumi",
      "userId": "16156288528573925195"
     },
     "user_tz": 240
    },
    "id": "N6CvL5c-wok4",
    "outputId": "3c781b6e-291e-49ec-f933-5215e2f756ee"
   },
   "outputs": [],
   "source": [
    "plt.style.use('seaborn-white')                   # set the background as seaborn-white                         \n",
    "\n",
    "x1=np.linspace(0, 2*np.pi, num=100)\n",
    "y1=np.sin(x1)\n",
    "y2=np.cos(x1)\n",
    "\n",
    "fig=plt.figure(figsize=(10,4))\n",
    "plt.plot(x1, y1,'g--', x1, y2,'r', linewidth=3), plt.grid()\n",
    "\n",
    "plt.legend(['Sine','Cosine'], loc='best') \n",
    "\n",
    "plt.savefig('SavedFigure.png',dpi=200, bbox_inches='tight', facecolor='w')\n",
    "\n",
    "from google.colab import files # only when using Colab so we can download the plot\n",
    "files.download('SavedFigure.png')"
   ]
  },
  {
   "cell_type": "markdown",
   "metadata": {
    "id": "bG-44YFlap5F"
   },
   "source": [
    "##### <font color='red'>__Question (5)__</font>:"
   ]
  },
  {
   "cell_type": "markdown",
   "metadata": {
    "id": "S_Hm1HdC6K59"
   },
   "source": [
    "Using `fivethirtyeight` style of plotting, plot three functions of $y_1(t)=t^3+5t^2+7t+2$, $y_2(t)=-2t^3+t^2+2$, and $y_3(t)=t^2+10t$ from __-5__ to __5__. Use different line styles and line colors for the functions and make sure the axes have labels. Remember to use a legend identifying each plot. Turn the grid on and save and download the figure."
   ]
  },
  {
   "cell_type": "code",
   "execution_count": null,
   "metadata": {
    "id": "uPB5mY5w6L-5"
   },
   "outputs": [],
   "source": [
    "# In-Class Assignment\n"
   ]
  }
 ],
 "metadata": {
  "colab": {
   "collapsed_sections": [],
   "provenance": []
  },
  "kernelspec": {
   "display_name": "Python 3.9.5 ('base')",
   "language": "python",
   "name": "python3"
  },
  "language_info": {
   "codemirror_mode": {
    "name": "ipython",
    "version": 3
   },
   "file_extension": ".py",
   "mimetype": "text/x-python",
   "name": "python",
   "nbconvert_exporter": "python",
   "pygments_lexer": "ipython3",
   "version": "3.9.5"
  },
  "vscode": {
   "interpreter": {
    "hash": "83ccbb0f1a9875466b70ce43942a6c3bf1bd307702db42cf40d928b657f23a9a"
   }
  }
 },
 "nbformat": 4,
 "nbformat_minor": 0
}
