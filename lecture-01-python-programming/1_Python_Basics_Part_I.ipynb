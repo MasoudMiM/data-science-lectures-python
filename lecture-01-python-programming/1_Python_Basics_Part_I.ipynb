{
  "cells": [
    {
      "cell_type": "markdown",
      "metadata": {
        "id": "zTZX51Mou5k3"
      },
      "source": [
        "# **Python Basic Programming - Part I**"
      ]
    },
    {
      "cell_type": "markdown",
      "metadata": {
        "id": "hWbQQt9nvE8B"
      },
      "source": [
        "# Table of Contents:\n",
        "1. [Introduction](#Intro)\n",
        "2. [Operations](#Oper)\n",
        "3. [Types of Data](#DataType)\n",
        "\n",
        "    3.1. [Numeric](#numericdata)\n",
        "  \n",
        "    3.2. [Strings](#stringdata)\n",
        "\n",
        "    3.3. [Booleans](#booleandata)\n",
        "\n",
        "    3.4. [None](#nonedata)\n",
        "\n",
        "    3.5. [Date and Times](#datetimesdata)\n",
        "\n",
        "4. [Control Flow](#ContFlow)\n",
        "\n",
        "    4.1. [If Statement](#ifstat)\n",
        "\n",
        "    4.2. [For-Loop](#forloop)\n",
        "\n",
        "    4.3. [While-Loop](#whileloop)\n",
        "\n",
        "    4.4. [Range](#range)\n"
      ]
    },
    {
      "cell_type": "markdown",
      "metadata": {
        "id": "Z47GisZHCcQV"
      },
      "source": [
        "# **1. Introduction** <a name=\"Intro\"> </a>"
      ]
    },
    {
      "cell_type": "markdown",
      "metadata": {
        "id": "DZ8P7aJZu_Xg"
      },
      "source": [
        "First a few words ...\n",
        "\n",
        "**Python** is an interpreted language. The Python interpreter runs a program by executing one statement at a time.\n",
        "\n",
        "**IPython** (short for Interactive Python) was started in 2001\n",
        "by Fernando Perez as an enhanced Python interpreter, and has since grown into a project aiming to provide, in Perez’s words, “Tools for the entire lifecycle of research computing.” If Python is the engine of our data science task, you might think of IPython as the interactive control panel.\n",
        "\n",
        "**Jupyter notebook** is a browser-based graphical interface to the IPython shell, and builds on it a rich set of dynamic display capabilities. As well as executing Python/ IPython statements, the notebook allows the user to include formatted text, static and dynamic visualizations, mathematical equations, JavaScript widgets, and much more.\n",
        "\n",
        "**Google Colaboratory** (**Colab** for short) is a cloud computing platform that allows you to run Jupyter notebooks prepared with the most recent data analysis and machine learning libraries"
      ]
    },
    {
      "cell_type": "markdown",
      "metadata": {
        "id": "vaFBVFKTv1x8"
      },
      "source": [
        "**How to run a cell with codes**?\n",
        "Simply holds SHIFT and press ENTER while you are in the \"code\" cell.\n",
        "\n",
        "\n",
        "Let's start with the *Hello World* program:"
      ]
    },
    {
      "cell_type": "code",
      "execution_count": null,
      "metadata": {
        "id": "gO3Btqfdu3Wx"
      },
      "outputs": [],
      "source": [
        "print('Hello World!')"
      ]
    },
    {
      "cell_type": "markdown",
      "metadata": {
        "id": "uQsR3p5UxfHr"
      },
      "source": [
        "**How to get guidelines for a command?** type the command with a question mark in front of it in a code cell."
      ]
    },
    {
      "cell_type": "code",
      "execution_count": null,
      "metadata": {
        "id": "iQfVofomxLaD"
      },
      "outputs": [],
      "source": [
        "print?"
      ]
    },
    {
      "cell_type": "markdown",
      "metadata": {
        "id": "hjYnirAjx13P"
      },
      "source": [
        "**Comments**\n",
        "Any text preceded by the hash mark (pound sign) # is ignored by the Python interpreter. This is often used to add comments to code. At times you may also want to exclude certain blocks of code without deleting them."
      ]
    },
    {
      "cell_type": "code",
      "execution_count": null,
      "metadata": {
        "id": "Ir4M9Dcqxugk"
      },
      "outputs": [],
      "source": [
        "# This is a comment added to this code cell. This cell prints this sentence: \"Today is August 1st and this week is the first week of the semester!\"\n",
        "print(\"Today is September 8th and this week is the second week of the semester!\")  # Press SHIFT+ENTER to run the code"
      ]
    },
    {
      "cell_type": "markdown",
      "metadata": {
        "id": "sexNnXyFBCsO"
      },
      "source": [
        "\n",
        "\n",
        "---\n",
        "\n",
        "\n",
        "\n",
        "---"
      ]
    },
    {
      "cell_type": "markdown",
      "metadata": {
        "id": "URRa5QNz3edO"
      },
      "source": [
        "# **2. Operations** <a name=\"Oper\"></a>"
      ]
    },
    {
      "cell_type": "markdown",
      "metadata": {
        "id": "mXdL3bjG3jwy"
      },
      "source": [
        "![alt text](https://docs.google.com/uc?export=download&id=11Y4fUzR9EuVdaTZAkAyK6n1AYeBUqs4M)\n",
        "\n",
        "![alt text](https://docs.google.com/uc?export=download&id=1g2koS6yUb6fXDHe1kdaE8wivZkq6CPwz)"
      ]
    },
    {
      "cell_type": "markdown",
      "metadata": {
        "id": "AGK949UD_VUb"
      },
      "source": [
        "Let's look at some examples:"
      ]
    },
    {
      "cell_type": "code",
      "execution_count": null,
      "metadata": {
        "id": "6RwB4Z-1_X8M"
      },
      "outputs": [],
      "source": [
        "a = 4\n",
        "b = 3\n",
        "print(\"a*b=\",a*b)\n",
        "print(\"a+b=\",a+b)\n",
        "print(\"a^b=\",a**b)\n",
        "\n",
        "print(a<b)\n",
        "print(a is b)\n",
        "print(a is not b)\n",
        "print(a==b)\n"
      ]
    },
    {
      "cell_type": "markdown",
      "metadata": {
        "id": "KPpaM9EYBIfp"
      },
      "source": [
        "\n",
        "\n",
        "---\n",
        "\n",
        "\n",
        "\n",
        "---\n",
        "\n"
      ]
    },
    {
      "cell_type": "markdown",
      "metadata": {
        "id": "l5bNs3361ERh"
      },
      "source": [
        "# **3. Types of Data** <a name=\"DataType\"></a>"
      ]
    },
    {
      "cell_type": "markdown",
      "metadata": {
        "id": "nqu1mAD4CG55"
      },
      "source": [
        "## 3.1. _Numeric_ <a name=\"numericdata\"> </a>\n",
        "\n",
        "The primary Python types for numbers are _int_ and _float_. An _int_ can store arbitrarily large numbers. Floating-point numbers are represented with the Python float type. Under the hood, each one is a double-precision (64-bit) value. They can also be expressed with scientific notation."
      ]
    },
    {
      "cell_type": "code",
      "execution_count": null,
      "metadata": {
        "id": "lWYj5rrgZ2KA"
      },
      "outputs": [],
      "source": [
        "intval=10  # an integer number\n",
        "print( type(intval) )\n",
        "print( intval**3 )\n",
        "print( intval*intval )"
      ]
    },
    {
      "cell_type": "code",
      "execution_count": null,
      "metadata": {
        "id": "UePt794DaDGp"
      },
      "outputs": [],
      "source": [
        "fltval1=12.4567\n",
        "fltval2=1.345e-8\n",
        "print(type(fltval1),type(fltval2))\n",
        "print(fltval1*fltval2)"
      ]
    },
    {
      "cell_type": "markdown",
      "metadata": {
        "id": "m6ELRAyMj7EB"
      },
      "source": [
        "##### <font color='red'>__Question (1)__</font>:"
      ]
    },
    {
      "cell_type": "markdown",
      "metadata": {
        "id": "n_qkFaBL8TiF"
      },
      "source": [
        "What is the data type of the multiplication of an integer and a float type number?"
      ]
    },
    {
      "cell_type": "code",
      "execution_count": null,
      "metadata": {
        "id": "3EEzAJwpkHm6"
      },
      "outputs": [],
      "source": [
        "## In-Class Assignment\n",
        "\n"
      ]
    },
    {
      "cell_type": "markdown",
      "metadata": {
        "id": "64Y4X5H_akkw"
      },
      "source": [
        "**Note:** Keep in mind, \"/\" division yields a floating-point number if the fraction does not yield a whole number while \"//\" drops the fraction part of the floating-point number."
      ]
    },
    {
      "cell_type": "code",
      "execution_count": null,
      "metadata": {
        "id": "M9G05e2cbnCC"
      },
      "outputs": [],
      "source": [
        "print(3/2)\n",
        "print(3//2)"
      ]
    },
    {
      "cell_type": "markdown",
      "metadata": {
        "id": "sjoqSDQNHmZg"
      },
      "source": [
        "## 3.2. _Strings_ <a name=\"stringdata\"> </a>\n",
        "\n",
        "You can write string literals using either single quotes <font color='red'>'</font> or double quotes <font color='red'>''</font>. If you have a <font color='red'>'</font> in you phrase then you should use <font color='red'>''</font> for your string. If you have both single and double quotations, you can use triple quotation <font color='red'>'''</font>"
      ]
    },
    {
      "cell_type": "code",
      "execution_count": null,
      "metadata": {
        "id": "2o3XHPXAb0EX"
      },
      "outputs": [],
      "source": [
        "strval1=\"This is a string\"\n",
        "strval2='This is also a string'\n",
        "strval3='let\\'s print this string!'\n",
        "strval4=\" my height is 5\\'9\\\"\"\n",
        "\n",
        "print(strval1)\n",
        "print(strval2)\n",
        "print(strval3)\n",
        "print(strval4)"
      ]
    },
    {
      "cell_type": "markdown",
      "metadata": {
        "id": "_rA-0XCfdygc"
      },
      "source": [
        "You can go to the next line using \"\\n\" command."
      ]
    },
    {
      "cell_type": "code",
      "execution_count": null,
      "metadata": {
        "id": "QkjKrvavd70G"
      },
      "outputs": [],
      "source": [
        "print('My name is\\nMasoud')"
      ]
    },
    {
      "cell_type": "markdown",
      "metadata": {
        "id": "UwKP5Rj_bwUy"
      },
      "source": [
        "You can also refer to a specific character in a string"
      ]
    },
    {
      "cell_type": "code",
      "execution_count": null,
      "metadata": {
        "id": "JvU3yNueb0bx"
      },
      "outputs": [],
      "source": [
        "strval='MECH 475'\n",
        "print(strval[0],strval[2]) # pay attention that the numbering in Python starts from 0"
      ]
    },
    {
      "cell_type": "markdown",
      "metadata": {
        "id": "9kokKzRvlNZY"
      },
      "source": [
        "##### <font color='red'>__Question (2)__</font>:"
      ]
    },
    {
      "cell_type": "markdown",
      "metadata": {
        "id": "XCLY-CLH8TiK"
      },
      "source": [
        "Write a code that prints your first name, goes to the next line, and prints your last name in the next line."
      ]
    },
    {
      "cell_type": "code",
      "execution_count": null,
      "metadata": {
        "id": "slattYD7lWQy"
      },
      "outputs": [],
      "source": [
        "## In-Class Assignment\n"
      ]
    },
    {
      "cell_type": "code",
      "execution_count": null,
      "metadata": {
        "id": "qAz_rryqgiFl"
      },
      "outputs": [],
      "source": [
        "%whos"
      ]
    },
    {
      "cell_type": "markdown",
      "metadata": {
        "id": "I7yKh_TPcto7"
      },
      "source": [
        "We can convert a data type to string type using <font color='blue'>str</font> command."
      ]
    },
    {
      "cell_type": "code",
      "execution_count": null,
      "metadata": {
        "id": "oIqRyDH6dUEw"
      },
      "outputs": [],
      "source": [
        "a = 12.45\n",
        "aString=str(a)                # Converting variable a to a string type\n",
        "print(a,type(a))\n",
        "print(aString,type(aString))"
      ]
    },
    {
      "cell_type": "markdown",
      "metadata": {
        "id": "QTgymOBhIIrg"
      },
      "source": [
        "## 3.3. _Booleans_ <a name=\"booleandata\"> </a>\n",
        "\n",
        "The two boolean values in Python are written as <font color='blue'> True </font> and <font color='blue'> False </font>. Comparisons and other conditional expressions results in either True or False."
      ]
    },
    {
      "cell_type": "code",
      "execution_count": null,
      "metadata": {
        "id": "vqSZGg8Ued-F"
      },
      "outputs": [],
      "source": [
        "a1=1\n",
        "b1=2\n",
        "print('a=',a1,'& b=',b1)\n",
        "print(a1==b1)                 # Are a1 and b1 equal ?\n",
        "print(a1!=b1)                 # Are a1 and b1 not equal ?"
      ]
    },
    {
      "cell_type": "markdown",
      "metadata": {
        "id": "DwpoSKycI1Ll"
      },
      "source": [
        "## 3.4. _None_ <a name=\"nonedata\"> </a>\n",
        "\n",
        "<font color='blue'> None </font> is the Python null value type. If a function does not explicitly return a value, it implicitly returns <font color='blue'> None </font>. In so many cases when a dataset is imported, missing values are replaced as <font color='blue'> None </font>."
      ]
    },
    {
      "cell_type": "code",
      "execution_count": null,
      "metadata": {
        "id": "q-YrmWhaflxo"
      },
      "outputs": [],
      "source": [
        "a = None\n",
        "print(a)\n",
        "print(a is None)\n",
        "print(type(a))"
      ]
    },
    {
      "cell_type": "markdown",
      "metadata": {
        "id": "cCxbNxVrJEic"
      },
      "source": [
        "## 3.5. _Dates and Times_ <a name=\"datetimesdata\" > </a>\n",
        "\n",
        "The built-in Python <font color='blue'>datetime</font> module provides datetime, date, and time types. The datetime type, as you may imagine, combines the information stored in date and time.\n",
        "\n",
        "First, we need to import the functions from the corresponding _library_. In Python, a module is simply a file with the .py extension containing Python code."
      ]
    },
    {
      "cell_type": "code",
      "execution_count": null,
      "metadata": {
        "id": "BujuqPVKgHrO"
      },
      "outputs": [],
      "source": [
        "# we need to import necessary functions from datetime module\n",
        "from datetime import datetime\n",
        "\n",
        "dt = datetime(2022, 1, 19, 14, 15, 21)\n",
        "print(\"date is\",dt)\n",
        "print(\"day is\",dt.day)\n",
        "print(\"hour is\",dt.hour)\n",
        "print(\"minute is\",dt.minute)"
      ]
    },
    {
      "cell_type": "markdown",
      "metadata": {
        "id": "7NJuLNJ1rzFu"
      },
      "source": [
        "We can also get the current time using _datetime_ command. We also have to specify the time zone for the area. In case you are interested in how to get the current time for different regions, take look at the suggestions in this link: https://stackoverflow.com/questions/1398674/display-the-time-in-a-different-time-zone"
      ]
    },
    {
      "cell_type": "code",
      "execution_count": null,
      "metadata": {
        "id": "iBTojfctsB07"
      },
      "outputs": [],
      "source": [
        "print(datetime.now())\n",
        "print(datetime.utcnow()) # Coordinated Universal Time"
      ]
    },
    {
      "cell_type": "markdown",
      "metadata": {
        "id": "XbdqubCguEC8"
      },
      "source": [
        "##### <font color='red'> __Question (3)__</font>:"
      ]
    },
    {
      "cell_type": "markdown",
      "metadata": {
        "id": "wLqzDbwO8Tic"
      },
      "source": [
        "Print the current day, current month, and current minute for the Coordinated Universal Time zone"
      ]
    },
    {
      "cell_type": "code",
      "execution_count": null,
      "metadata": {
        "id": "StuI1omPufic"
      },
      "outputs": [],
      "source": [
        "## In-Class Assignment\n",
        "\n"
      ]
    },
    {
      "cell_type": "markdown",
      "metadata": {
        "id": "IOt0xIWWjbxw"
      },
      "source": [
        "Notice that we used a \"dot\" after _dt_ to find out more about the variable _dt_. This \"dot\" after the variable gives us access to the **attributes** and **methods**. These are functions associated with an object that can have access to the object’s internal data. To see the attributes and methods associated with a variable (generally an object) use that object name with a \"dot\" or you can use the command _dir_ to see all the attributes for that object."
      ]
    },
    {
      "cell_type": "code",
      "execution_count": null,
      "metadata": {
        "id": "eTETEURukR_Y"
      },
      "outputs": [],
      "source": [
        "val1=\"Test\"\n",
        "#dir(val1)   # to see all the methods or attributes related to an object"
      ]
    },
    {
      "cell_type": "code",
      "source": [
        "test_string = 'Masoud is in MECG 542'\n",
        "test_string.lower().count(\"m\")"
      ],
      "metadata": {
        "id": "POWyfUU3GPlC"
      },
      "execution_count": null,
      "outputs": []
    },
    {
      "cell_type": "code",
      "source": [
        "test_string.isupper()"
      ],
      "metadata": {
        "id": "Sah8LGt-IMP0"
      },
      "execution_count": null,
      "outputs": []
    },
    {
      "cell_type": "markdown",
      "metadata": {
        "id": "XXE452uPvTkj"
      },
      "source": [
        "##### <font color='red'> __Question (4)__</font>:"
      ]
    },
    {
      "cell_type": "markdown",
      "metadata": {
        "id": "-_i3sOVL8Tih"
      },
      "source": [
        "Put your name in a string type variable and then do the following: (1) convert all the letters to upper case, (2) convert all the letters to lower case, (3) check if all the letters are lower case, (4) count the number of occurance of second letter in your name, (5) replace all the occurances of the third letter of your name with letter __n__"
      ]
    },
    {
      "cell_type": "code",
      "execution_count": null,
      "metadata": {
        "id": "35dfJF-FwnSI"
      },
      "outputs": [],
      "source": [
        "## In-Class Assignment\n",
        "\n"
      ]
    },
    {
      "cell_type": "markdown",
      "metadata": {
        "id": "d1lYJcXN8Tii"
      },
      "source": [
        "# **4. Control Flow** <a name=\"ContFlow\"></a>\n",
        "\n",
        "Python has several built-in keywords for conditional logic, loops, and other standard control flow concepts found in other programming languages."
      ]
    },
    {
      "cell_type": "markdown",
      "metadata": {
        "id": "sYDXc-mY8Tii"
      },
      "source": [
        "## 1.1. _If Statement_ <a name=\"ifstat\"></a>\n",
        "\n",
        "It checks a condition that, if <font color='blue'> True </font>, evaluates the code in the block that follows.\n",
        "<img src=\"https://docs.google.com/uc?export=download&id=19JYBZlVAmBrXoGP82oQvst1ygILTRYYx\">"
      ]
    },
    {
      "cell_type": "code",
      "execution_count": null,
      "metadata": {
        "id": "_KV3k75u8Tij"
      },
      "outputs": [],
      "source": [
        "a=3\n",
        "b=2\n",
        "if a==b:\n",
        "  print('a=b')\n",
        "\n",
        "print('end of the code')"
      ]
    },
    {
      "cell_type": "code",
      "execution_count": null,
      "metadata": {
        "id": "8lJwUrEA8Tij"
      },
      "outputs": [],
      "source": [
        "a=5\n",
        "b=5\n",
        "c=4\n",
        "if a==b or a==c:\n",
        "  print('a=b or a=c')"
      ]
    },
    {
      "cell_type": "markdown",
      "metadata": {
        "id": "0qgE2bqa8Tij"
      },
      "source": [
        "An <font color='purple'> if </font> statement can be optionally followed by one or more <font color='purple'> elif </font> blocks and a catch-all <font color='purple'> else </font> block if all of the conditions are _False_\n",
        "\n",
        "<img src=\"https://docs.google.com/uc?export=download&id=1IkRdKC8UA-nj_i-vSZ_hJF6W7PLiAUE1\">\n",
        "\n",
        "\n"
      ]
    },
    {
      "cell_type": "code",
      "execution_count": null,
      "metadata": {
        "id": "Hv57h55F8Tij"
      },
      "outputs": [],
      "source": [
        "x=5\n",
        "\n",
        "if x < 0:\n",
        "  print(\"It's negative\")\n",
        "elif x == 0:\n",
        "  print('Equal to zero')\n",
        "elif 0 < x < 5:\n",
        "  print('Positive but smaller than 5')\n",
        "else:\n",
        "  print('Positive and larger than or equal to 5')"
      ]
    },
    {
      "cell_type": "markdown",
      "metadata": {
        "id": "ebSPi9jL8Tik"
      },
      "source": [
        "##### <font color='red'> __Question (5)__</font>:"
      ]
    },
    {
      "cell_type": "markdown",
      "metadata": {
        "id": "s6atYfEh8Tik"
      },
      "source": [
        "Write a code that prints the third letter of your name if the value of a variable _n_ is less than 3 and bigger than 1. Replace <font color='blue'> None </font> with appropriate variables and statements in the following code."
      ]
    },
    {
      "cell_type": "code",
      "execution_count": null,
      "metadata": {
        "id": "WWMQGE-_8Tik"
      },
      "outputs": [],
      "source": [
        "## In-Class Assignment\n",
        "n=\n",
        "name=''\n",
        "\n",
        "if None:\n",
        "  print(name[None])\n"
      ]
    },
    {
      "cell_type": "markdown",
      "metadata": {
        "id": "-tqdZn7g8Til"
      },
      "source": [
        "## 4.2. _For-Loop_ <a name=\"forloop\"> </a>\n",
        "\n",
        "For loops are for iterating over a collection (like a list or tuple) or an iterater.\n",
        "\n",
        "<img src=\"https://docs.google.com/uc?export=download&id=1X-D_rr0iqNW7SQsAFr_9sdurHQpKoAnO\">\n"
      ]
    },
    {
      "cell_type": "code",
      "execution_count": null,
      "metadata": {
        "id": "fhfemfJQ8Til"
      },
      "outputs": [],
      "source": [
        "lst=[1,10,3,4,6]\n",
        "for ii in lst:\n",
        "  value2= ii + ii**2\n",
        "  print(ii,value2)"
      ]
    },
    {
      "cell_type": "code",
      "execution_count": null,
      "metadata": {
        "id": "vtYY1eaH8Til"
      },
      "outputs": [],
      "source": [
        "lststr=['str1','str2','str3']\n",
        "for ii in lststr:\n",
        "  print(ii)"
      ]
    },
    {
      "cell_type": "code",
      "execution_count": null,
      "metadata": {
        "id": "6sdKRIwF8Til"
      },
      "outputs": [],
      "source": [
        "lst1=[1,2,3,4,5]\n",
        "lst2=[3,4,5,6,7]\n",
        "\n",
        "for value1 in lst1:\n",
        "  for value2 in lst2:\n",
        "    if value1==value2:\n",
        "      print(value1,value2)"
      ]
    },
    {
      "cell_type": "markdown",
      "metadata": {
        "id": "6NI_E3-H8Tim"
      },
      "source": [
        "Another useful command that can be used along with the for-loop is <font color='sienna'> enumerate </font> which loops over a list and also provides an automatic counter for the items in the list"
      ]
    },
    {
      "cell_type": "code",
      "execution_count": null,
      "metadata": {
        "id": "e7FJjxtq8Tim"
      },
      "outputs": [],
      "source": [
        "lst3=['item1','item2','item3','item4','item5']\n",
        "\n",
        "for ind,_ in enumerate(lst3):\n",
        "  print(ind)"
      ]
    },
    {
      "cell_type": "markdown",
      "metadata": {
        "id": "9h_2XQeb8Tim"
      },
      "source": [
        "##### <font color='red'> __Question (6)__</font>:"
      ]
    },
    {
      "cell_type": "markdown",
      "metadata": {
        "id": "vRoHuMsz8Tim"
      },
      "source": [
        "Write a for-loop that goes over the values in the list with your first name, your last name, and your height and prints the items with their associated counters. An example for a list: LST=[<font color='darkred'> \"Masoud\" </font>,<font color='darkred'> \"Masoumi\" </font>, <font color='darkred'>''' 5'9\" ''' </font> ]"
      ]
    },
    {
      "cell_type": "code",
      "execution_count": null,
      "metadata": {
        "id": "jkndQFEi8Tin"
      },
      "outputs": [],
      "source": [
        "## In-Class Assignment\n",
        "\n",
        "\n"
      ]
    },
    {
      "cell_type": "markdown",
      "metadata": {
        "id": "Op6IeuLH8Tin"
      },
      "source": [
        "## 4.3. _While-Loop_ <a name=\"whileloop\"> </a>\n",
        "\n",
        "A while loop specifies a condition and a block of code that is to be executed until the condition evaluates to _False_ or the loop is explicitly ended with _break_.\n",
        "\n",
        "<img src=\"https://docs.google.com/uc?export=download&id=13NCLlpmX1I5xHWu6hUND6Unae_vjOeHe\">"
      ]
    },
    {
      "cell_type": "code",
      "execution_count": null,
      "metadata": {
        "id": "T9liXTTy8Tio"
      },
      "outputs": [],
      "source": [
        "i=0\n",
        "while i < 6:\n",
        "  print(i)\n",
        "  i += 1 # equivalent to i = i + 1"
      ]
    },
    {
      "cell_type": "code",
      "execution_count": null,
      "metadata": {
        "id": "uQOBWUxZ8Tio"
      },
      "outputs": [],
      "source": [
        "x = 256\n",
        "\n",
        "total = 0\n",
        "\n",
        "while x > 0:\n",
        "  if total > 500:\n",
        "    break\n",
        "  total += x\n",
        "\n",
        "print(x,total)"
      ]
    },
    {
      "cell_type": "code",
      "source": [
        "step = 60\n",
        "if step % 20 == 0:\n",
        "  print(total)"
      ],
      "metadata": {
        "id": "-SUrGW5ZPEXz"
      },
      "execution_count": null,
      "outputs": []
    },
    {
      "cell_type": "markdown",
      "metadata": {
        "id": "XShPUom88Tip"
      },
      "source": [
        "##### <font color='red'> __Question (7)__</font>:"
      ]
    },
    {
      "cell_type": "markdown",
      "metadata": {
        "id": "dldek_bL8Tip"
      },
      "source": [
        "Write a while-loop to sum up the numbers from 0 to 120 and then print the output every 20 steps."
      ]
    },
    {
      "cell_type": "code",
      "execution_count": null,
      "metadata": {
        "id": "9DboFuqx8Tiq"
      },
      "outputs": [],
      "source": [
        "# In-Class Assignment\n"
      ]
    },
    {
      "cell_type": "markdown",
      "metadata": {
        "id": "CRkWJFJ18Tiq"
      },
      "source": [
        "## 4.4. _Range_ <a name=\"range\"> </a>\n",
        "\n",
        "The <font color='blue'> range </font> function returns an iterator that yields a sequence of evenly spaced integers:"
      ]
    },
    {
      "cell_type": "code",
      "execution_count": null,
      "metadata": {
        "id": "YBrb1tQz8Tir"
      },
      "outputs": [],
      "source": [
        "print(range(10))   # Equivalent to print(range(0,10))\n",
        "list(range(10))"
      ]
    },
    {
      "cell_type": "code",
      "execution_count": null,
      "metadata": {
        "id": "6XimwRaW8Tir"
      },
      "outputs": [],
      "source": [
        "for count in range(2,20,3):\n",
        "  print(count)"
      ]
    }
  ],
  "metadata": {
    "colab": {
      "provenance": []
    },
    "kernelspec": {
      "display_name": "Python 3.9.5 ('base')",
      "language": "python",
      "name": "python3"
    },
    "language_info": {
      "codemirror_mode": {
        "name": "ipython",
        "version": 3
      },
      "file_extension": ".py",
      "mimetype": "text/x-python",
      "name": "python",
      "nbconvert_exporter": "python",
      "pygments_lexer": "ipython3",
      "version": "3.9.5"
    },
    "vscode": {
      "interpreter": {
        "hash": "83ccbb0f1a9875466b70ce43942a6c3bf1bd307702db42cf40d928b657f23a9a"
      }
    }
  },
  "nbformat": 4,
  "nbformat_minor": 0
}